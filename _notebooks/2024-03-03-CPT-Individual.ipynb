{
 "cells": [
  {
   "cell_type": "markdown",
   "metadata": {},
   "source": [
    "---\n",
    "toc: true\n",
    "comments: true\n",
    "layout: post\n",
    "title: CPT Individual\n",
    "courses: {compsci: {week: 24}}\n",
    "type: tangibles\n",
    "---"
   ]
  },
  {
   "cell_type": "markdown",
   "metadata": {},
   "source": [
    "Link to [College Board Requirements](https://apcentral.collegeboard.org/media/pdf/ap-csp-student-task-directions.pdf)\n",
    "\n",
    "## Component A: Program Code\n",
    "<!-- Has 6 questions -->\n",
    "\n",
    "- ### Q1: ***Instructions for input from one of the following: the user, a device, an online data stream, a file.***\n",
    "    - The user will click on a button for a volunteering service which they choose to view reviews on, inputting a click with their cursor.\n",
    "    ![A1-1](https://github.com/alaraipek/Issues/assets/115954616/56f916b3-e0fa-45c9-86e5-9c65c48529ca)\n",
    "\n",
    "\n",
    "- ### Q2: ***Use of at least one list (or other collection type) to represent a collection of data that is stored and used to manage program complexity and help fulfill the program’s purpose.***\n",
    "    - An example of a collection of data that is stored is of the collection of reviews for each of the ten volunteering services. For each service, there are 4 reviews and the assigned number rating that was given for the specific volunteering service. It helps fulfill our program’s purpose because we use the data of all of the reviews on the page so they can be displayed when clicking. I have stored the collection of reviews and ratings in an SQLite table and used JSON collection to pass data from frontend to and from the backend.\n",
    "\n",
    "\n",
    "- ### Q3: ***At least one procedure that contributed to the program’s intended purpose where you have defined: the name, return type, one or more parameters.***\n",
    "    - This procedure has a name(reviews_by_name), the return type(json object), and parameters(name):\n",
    "    ![A3-1](https://github.com/alaraipek/Issues/assets/115954616/f28cdbd2-3179-469d-bdd7-8d81a4c55ed9)\n",
    "\n",
    "\n",
    "- ### Q4: ***An algorithm that includes sequencing, selection, and iteration that is in the body of the selected procedure.***\n",
    "    - I used a selection of 40 total reviews, 4 assigned to each ten titles of volunteering services where the row of the database is being fetched based on the cursor selection.\n",
    "    ![A4-1](https://github.com/alaraipek/Issues/assets/115954616/0c9b4d35-367e-4d91-bf35-ad85b36ce385)\n",
    "\n",
    "\n",
    "- ### Q5: ***Calls to your student-developed procedure.***\n",
    "    - Calls the generateReview update function after clicking on the Rate button.\n",
    "    ![A5-1](https://github.com/alaraipek/Issues/assets/115954616/7045870f-2cf9-4fcc-8f6c-a7eb255577d7)\n",
    "\n",
    "\n",
    "- ### Q6: ***Instructions for output (tactile, audible, visual, or textual) based on input and program functionality.***\n",
    "    - This code is the fetch that displays the reviews based off certain button for that volunteering service they selected to view. The screenshot shows the display demo for the Youth Corps volunteering service.\n",
    "    ![A6-1](https://github.com/alaraipek/Issues/assets/115954616/193933d4-edd1-4ac7-bb64-958deecba8d8)\n",
    "    ![A6-2](https://github.com/alaraipek/Issues/assets/115954616/ca4e76d4-60e0-4b80-a91d-7946c053c387)\n",
    "\n",
    "## Component B: Video\n",
    "<!-- Has 8 questions. Personally made question 4 and 5 combine some questions. -->\n",
    "\n",
    "| Requirements | My Answers |\n",
    "| - | - |\n",
    "| Input to your program | Video has cursor click on button to view ratings for volunteering service |\n",
    "| At least one aspect of the functionality of your program | Displays differnt specific reviews and ratings depending on the volunteering service the user wants to look at. |\n",
    "| Output produced by your program | Displayed reviews and ratings for each service are shown |\n",
    "| Your video may NOT contain: any distinguishing information about yourself and/or voice narration (though text captions are encouraged) | The video only shows the code and the reviews. There is not personal information or audio.There are text captions that can be read. |\n",
    "| Your video must be: either .webm, .mp4, .wmv, .avi, or .mov format; no more than 1 minute in length; no more than 30MB in file size | My video is shot as a .mp4 and is 59.6 seconds. The file is 2.9MB after downloading it from the website it was made on. |\n",
    "\n",
    "## Video\n",
    "\n",
    "\n",
    "## Reflection\n",
    "<p>\n",
    "    I do think that there's more neccessary work I could've done to this feature, however there are fun add ons I want to try in the future. For instance, towards the end I had an idea to create an average review rating and represent it in frontend with fractions of stars shown but could not execute and left \"rate = None\" for a later time when I can test it. There is nothing missing to this feature, with a proper database and backend and frontend connected. Maybe in the future I could connect the data from the reviews to the user's account and then show a profile and space for users to create more reviews by adding more with saving. Mostly, I struggled with creating an sqlite3 table and the function which sorted which rows I needed. In the end, I met the necessary requirements and ventured more into styling by building off of my prior frontend knowledge and now know where to start if I were to continue adding more desirable aspects to my feature.\n",
    "</p>"
   ]
  }
 ],
 "metadata": {
  "language_info": {
   "name": "python"
  }
 },
 "nbformat": 4,
 "nbformat_minor": 2
}
