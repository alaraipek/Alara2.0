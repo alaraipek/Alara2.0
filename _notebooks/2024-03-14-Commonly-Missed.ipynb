{
 "cells": [
  {
   "cell_type": "markdown",
   "metadata": {},
   "source": [
    "---\n",
    "comments: true\n",
    "layout: post\n",
    "title: Collegeboard MCQ Missed Questions\n",
    "description: Corrections to missed questions \n",
    "type: collab\n",
    "courses: { csp: {week: 26} }\n",
    "---"
   ]
  },
  {
   "cell_type": "markdown",
   "metadata": {},
   "source": [
    "# Collegeboard MCQ Missed Questions\n",
    "<img src=\"https://github.com/alaraipek/Alara2.0/assets/115954616/79fe8f36-8c5a-4a1d-a222-aa5c96954998\">"
   ]
  },
  {
   "cell_type": "markdown",
   "metadata": {},
   "source": [
    "### Question 45: \n",
    "<img src=\"https://github.com/alaraipek/Alara2.0/assets/115954616/5464fb75-53bc-4e78-b47e-8e72e539cfae\">\n",
    "My Answer: B\n",
    "Explanation: The initial call to botStepper moves the robot forward three squares, turns it left to face upwards on the grid, moves it forward three more squares, and then turns it right to face rightward. However, the subsequent call to botStepper tries to move the robot forward four squares, causing it to go beyond the grid's edge and resulting in the termination of the program's execution. Therefore, the corect answer is C.\n",
    "\n",
    "### Question 55:\n",
    "<img src=\"https://github.com/alaraipek/Alara2.0/assets/115954616/c750cb19-2dce-4511-b4c6-40a5ec87cbbe\">\n",
    "My Answer: B\n",
    "Explanation: In this code segment, the last element of the list is assigned to the variable temp. Then, the last element is removed from the list, and temp is appended to the end of the list. As a result, the list remains unchanged compared to its original state, making C the correct answer.\n",
    "\n",
    "### Question 50:\n",
    "<img src=\"https://github.com/alaraipek/Alara2.0/assets/115954616/b1236eb8-3d73-4271-a135-d3959d03f459\">\n",
    "My Answer: B\n",
    "Explanation: Incorrect. As symmetric encryption utilizes the same key for both encryption and decryption, it is essential to maintain its confidentiality.\n",
    "\n",
    "\n",
    "\n",
    "\n",
    "\n",
    "\n",
    "\n",
    "\n",
    "\n",
    "\n",
    "\n",
    "\n",
    "\n"
   ]
  },
  {
   "cell_type": "markdown",
   "metadata": {},
   "source": []
  }
 ],
 "metadata": {
  "language_info": {
   "name": "python"
  }
 },
 "nbformat": 4,
 "nbformat_minor": 2
}
