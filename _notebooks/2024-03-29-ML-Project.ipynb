{
 "cells": [
  {
   "cell_type": "markdown",
   "metadata": {},
   "source": [
    "---\n",
    "comments: true\n",
    "layout: post\n",
    "title: ML Project\n",
    "description: Review Ticket for ML Project \n",
    "type: collab\n",
    "courses: { csp: {week: 26} }\n",
    "---"
   ]
  },
  {
   "cell_type": "markdown",
   "metadata": {},
   "source": [
    "# Project Integration\n",
    "### Alara, Tarun, Gurshawn\n",
    "- I collaborated with Gurshawn and Tarun on this project and integrated by implementing our work together.\n",
    "- In the context of a Clash Royale prediction game, this model likely predicts the outcome of a match based on the input parameters such as player trophies and deck elixir. Once the prediction is made, the method returns the result in JSON format, which can be consumed by the frontend to display the predicted outcome to the user. Additionally, the code includes error handling.\n",
    "\n",
    "## Grade: 2.75/3\n",
    "\n",
    "### ML Page\n",
    "<img src=\"https://github.com/alaraipek/Issues/assets/115954616/84348419-f17f-4f73-8e46-147251d326c7\">\n",
    "\n",
    "### Demo\n",
    "<img src=\"https://github.com/alaraipek/Issues/assets/115954616/1b3d05bd-9c36-4b91-beab-bbfc140ec61b\">\n",
    "\n",
    "## Integrated Code\n",
    "Backend code which takes user input to predict and return response as JSON object\n",
    "<img src=\"https://github.com/alaraipek/Issues/assets/115954616/b211d1e8-7ecf-4a96-936d-58416d2ea0ba\">\n",
    "Error exception handling\n",
    "<img src=\"https://github.com/alaraipek/Issues/assets/115954616/b82d18b3-4fbb-4c60-980b-0eb939e6f1dd\">\n",
    "\n",
    "Training the machine learning model with new data\n",
    "<img src=\"https://github.com/alaraipek/Issues/assets/115954616/7417a732-5dc9-49a8-8ba2-3c3587200759\">\n",
    "\n",
    "Creating and Adding the Data\n",
    "<img src=\"https://github.com/alaraipek/Issues/assets/115954616/e3181387-924f-44ab-b08a-28c481890ad5\">"
   ]
  }
 ],
 "metadata": {
  "language_info": {
   "name": "python"
  }
 },
 "nbformat": 4,
 "nbformat_minor": 2
}
