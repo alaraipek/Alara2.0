{
 "cells": [
  {
   "cell_type": "markdown",
   "metadata": {},
   "source": [
    "---\n",
    "comments: true\n",
    "layout: post\n",
    "title: ML Project\n",
    "description: Review Ticket for ML Project \n",
    "type: collab\n",
    "courses: { csp: {week: 26} }\n",
    "---"
   ]
  },
  {
   "cell_type": "markdown",
   "metadata": {},
   "source": [
    "# Project Integration\n",
    "- I collaborated with Gurshawn and Tarun on this project and integrated by implementing our workk together.\n",
    "- In the context of a Clash Royale prediction game, this model likely predicts the outcome of a match based on the input parameters such as player trophies and deck elixir. Once the prediction is made, the method returns the result in JSON format, which can be consumed by the frontend to display the predicted outcome to the user. Additionally, the code includes error handling.\n",
    "\n",
    "### ML Page\n",
    "<img src=\"https://github.com/alaraipek/Issues/assets/115954616/84348419-f17f-4f73-8e46-147251d326c7\">\n",
    "\n",
    "### Demo\n",
    "<img src=\"https://github.com/alaraipek/Issues/assets/115954616/1b3d05bd-9c36-4b91-beab-bbfc140ec61b\">\n",
    "\n",
    "## Key Commits\n",
    "[Link to Key Commits](https://github.com/Gurbop/GTABackendT3/commit/b9c678def8019260394a5a597f68d816be0f6fa5)\n",
    "\n",
    "## Integrated Code\n",
    "Backend code which takes user input to predict and return response as JSON object\n",
    "<img src=\"https://github.com/alaraipek/Issues/assets/115954616/b211d1e8-7ecf-4a96-936d-58416d2ea0ba\">\n",
    "Error exception handling\n",
    "<img src=\"https://github.com/alaraipek/Issues/assets/115954616/b82d18b3-4fbb-4c60-980b-0eb939e6f1dd\">"
   ]
  }
 ],
 "metadata": {
  "language_info": {
   "name": "python"
  }
 },
 "nbformat": 4,
 "nbformat_minor": 2
}
