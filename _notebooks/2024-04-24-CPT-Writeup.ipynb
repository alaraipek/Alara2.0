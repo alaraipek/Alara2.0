{
 "cells": [
  {
   "cell_type": "markdown",
   "metadata": {},
   "source": [
    "---\n",
    "comments: true\n",
    "layout: post\n",
    "title: CPT Writeup\n",
    "description: Writeup for CPT Project\n",
    "type: collab\n",
    "courses: { csp: {week: 26} }\n",
    "---"
   ]
  },
  {
   "cell_type": "markdown",
   "metadata": {},
   "source": [
    "## Collections\n",
    "- Blog Python API code and use of List and Dictionaries.\n",
    "- This is code that initializes our own database to store the reviews.\n",
    "\n",
    "<img src=\"https://github.com/alaraipek/Issues/assets/115954616/e45eeca1-4af1-4bad-a9af-0f44426a3cd7\">\n",
    "\n",
    "- From VSCode using SQLite3 Editor, show your unique collection/table in database, display rows and columns in the table of the SQLite database.\n",
    "    - This is the data table of stored reviews based on if the creator selected the volunteering service\n",
    "<img src=\"https://github.com/alaraipek/Issues/assets/115954616/d5988a83-f80e-486a-807c-d11a8dbbd64a\">\n",
    "\n",
    "- From VSCode model, show your unique code that was created to initialize table and create test data.\n",
    "Uses two normal and 1 admin account as instructed\n"
   ]
  },
  {
   "cell_type": "code",
   "execution_count": null,
   "metadata": {
    "vscode": {
     "languageId": "plaintext"
    }
   },
   "outputs": [],
   "source": [
    "\"\"\"Database Creation and Testing \"\"\"\n",
    "\n",
    "\n",
    "# Builds working data for testing\n",
    "def initUsers():\n",
    "    with app.app_context():\n",
    "        \"\"\"Create database and tables\"\"\"\n",
    "        /cards/_all()\n",
    "        \"\"\"Tester data for table\"\"\"\n",
    "        u1 = User(name='Thomas Edison', uid='toby', password='123toby', dob=date(1847, 2, 11))\n",
    "        u2 = User(name='Nicholas Tesla', uid='niko', password='123niko', dob=date(1856, 7, 10))\n",
    "        u3 = User(name='Alexander Graham Bell', uid='lex')\n",
    "        u4 = User(name='Grace Hopper', uid='hop', password='123hop', dob=date(1906, 12, 9))\n",
    "        u5 = User(name='Abe Lincoln2', uid='abe2', password='123abe', dob=date(1906, 12, 9))\n",
    "        # Add admin as u5 to make it different than user\n",
    "        u6 = User(name='Admin', uid='admin', password='123admin', dob=date(1906, 12, 9),role='Admin') \n",
    "    \n",
    "        users = [u1, u2, u3, u4,u5,u6]\n",
    "        \n",
    "\n",
    "        # Create a Python array with JSON values\n",
    "        json_array = [\n",
    "        #'{\"title\": \"FoodBank\", \"description\": \"Food Bank\", \"address\": \"123 food bank st\", \"zipcode\":\"92126\", \"day\":20,\"agegroup\":\"16\"}',\n",
    "        #'{\"title\": \"AnimalShelter\", \"description\": \"Animal Shelter\", \"address\": \"123 Animal shelter st\", \"zipcode\":\"92127\", \"day\":21,\"agegroup\":\"18\"}',\n",
    "        #'{\"title\": \"CommunityService\", \"description\": \"Community Service\", \"address\": \"123 community service st\", \"zipcode\":\"92128\", \"day\":22,\"agegroup\":\"10\"}',\n",
    "        #'{\"title\": \"BeachCleanup\", \"description\": \"Beach Cleanup\", \"address\": \"123 beach cleanup st\", \"zipcode\":\"92129\", \"day\":23,\"agegroup\":\"6\"}',\n",
    "        '{\"title\": \"San Diego Refugee Tutoring\", \"description\": \"Tutor refugee students for 2 hours on Tuesdays and Thursdays from 4pm to 6pm.\", \"address\": \"4877 Orange Ave, San Diego, CA 92115\",\"zipcode\": \"92115\",\"date\": \"2024-02-27\",\"agegroup\": \"14\"}',\n",
    "        '{\"title\": \"Youth Court\", \"description\": \"Teens take the roles of lawyers and judges and hear cases about fellow students and their infractures.\", \"address\": \"220 S Broadway, Escondido, CA 92025\",\"zipcode\": \"92025\",\"date\": \"2024-02-27\",\"agegroup\": \"14\"}',\n",
    "        '{\"title\": \"Balboa Natural History Museum\", \"description\": \"Volunteers educate visitors in the museum about animals at small display stands.\", \"address\": \"1788 El Prado, San Diego, CA 92101\",\"zipcode\": \"92101\",\"date\": \"2024-03-02\",\"agegroup\": \"16\"}',\n",
    "        '{\"title\": \"Step Up\", \"description\": \"Mentoring program for girls\", \"address\": \"510 South Hewitt Street #111 Los Angeles, CA 90013\",\"zipcode\": \"90013\",\"date\": \"2024-03-02\",\"agegroup\": \"14\"}',\n",
    "        '{\"title\": \"Children Rising\", \"description\": \"Tutoring program for students.\", \"address\": \"2633 Telegraph Avenue #412 Oakland, CA 94612\",\"zipcode\": \"94612\",\"date\": \"2024-03-10\",\"agegroup\": \"18\"}',\n",
    "        '{\"title\": \"Seattle Animal Shelter\", \"description\": \"Help animals get adopted to loving families.\", \"address\": \"2061 15th Ave W, Seattle, WA, 98119\",\"zipcode\": \"98119\",\"date\": \"2024-03-10\",\"agegroup\": \"18\"}',\n",
    "        '{\"title\": \"Gods Love We Deliver\", \"description\": \"Help cook and deliver meals to those in need.\", \"address\": \"166 Avenue of the Americas New York, NY 10013\",\"zipcode\": \"10013\",\"date\": \"2024-03-20\",\"agegroup\": \"18\"}',\n",
    "        '{\"title\": \"Horse Play Therapy Center\", \"description\": \"Advance development and healing for children with special needs\", \"address\": \"1925 State Road 207 Saint Augustine, FL 32086\",\"zipcode\": \"32086\",\"date\": \"2024-03-14\",\"agegroup\": \"14\"}',\n",
    "        '{\"title\": \"Community Servings Food Heals\", \"description\": \"Help deliver food to families experiencing critical or chronic illness and nutrition insecurity\", \"address\": \"179 Amory Street Jamaica Plain, MA 02130\",\"zipcode\": \"02130\",\"date\": \"2024-03-09\",\"agegroup\": \"18\"}',\n",
    "        '{\"title\": \"Emmaus\", \"description\": \"Help prevent human trafficking and exploitation.\", \"address\": \"954 W. Washington Blvd Chicago, IL 60607 \",\"zipcode\": \"60607\",\"date\": \"2024-03-30\",\"agegroup\": \"18\"}',        \n",
    "        ]\n",
    "        events_array = [json.loads(json_str) for json_str in json_array]\n",
    "        num = 0\n",
    "\n",
    "        \"\"\"Builds sample user/note(s) data\"\"\"\n",
    "        for user in users:\n",
    "            num = num + 1\n",
    "            try:\n",
    "                '''add a few 1 to 4 events per user'''\n",
    "                for events in events_array:\n",
    "                    title = events[\"title\"]+ str(num)\n",
    "                    description = events[\"description\"]\n",
    "                    address = events[\"address\"]\n",
    "                    zipcode = events[\"zipcode\"]\n",
    "                    edate = events[\"date\"]\n",
    "                    agegroup = events[\"agegroup\"]\n",
    "                    user.events.append(Event(title=title, description=description, address=address, zipcode=zipcode, date=datetime.strptime(edate, '%Y-%m-%d').date(), agegroup=agegroup ))\n",
    "                '''add user/event data to table'''\n",
    "                user.create()\n",
    "            except IntegrityError:\n",
    "                '''fails with bad or duplicate data'''\n",
    "                db.session.remove()\n",
    "                print(f\"Records exist, duplicate email, or error: {user.uid}\")"
   ]
  },
  {
   "cell_type": "markdown",
   "metadata": {},
   "source": [
    "- In VSCode using Debugger, show a list as extracted from database as Python objects.\n",
    "    - This shows the user data object being extracted in the debugger after a postman request\n",
    "- In VSCode use Debugger and list, show two distinct example examples of dictionaries, show Keys/Values using debugger.\n",
    "    - The data for the user is shown under here where the purple text is the key and the value is next to it\n",
    "- When a user is created, it shows the data under the user with the purple text being the key and the value is next to it\n",
    "<img src=\"https://github.com/alaraipek/Issues/assets/115954616/d7bdc5fd-02b4-4d1a-b770-d430366e1167\">\n",
    "\n",
    "Blog Python API code and use of Postman to request and respond with JSON.\n",
    "- In VSCode, show Python API code definition for request and response using GET, POST, UPDATE methods. Discuss algorithmic condition used to direct request to appropriate Python method based on request method.\n",
    "    - The API has many CRUD definitions for GET POST and UPDATE responses for modifiying objects, so resources must define and create endpoints while the user api allows GET POST and PUT responses\n"
   ]
  },
  {
   "cell_type": "code",
   "execution_count": null,
   "metadata": {
    "vscode": {
     "languageId": "plaintext"
    }
   },
   "outputs": [],
   "source": [
    "# building RESTapi endpoint\n",
    "    api.add_resource(_CRUD, '/')\n",
    "    api.add_resource(_Security, '/authenticate')"
   ]
  },
  {
   "cell_type": "markdown",
   "metadata": {},
   "source": [
    "In VSCode, show algorithmic conditions used to validate data on a POST condition."
   ]
  },
  {
   "cell_type": "code",
   "execution_count": null,
   "metadata": {
    "vscode": {
     "languageId": "plaintext"
    }
   },
   "outputs": [],
   "source": [
    "            ''' Avoid garbage in, error checking '''\n",
    "            # validate name\n",
    "            name = body.get('name')\n",
    "            if name is None or len(name) < 2:\n",
    "                return {'message': f'Name is missing, or is less than 2 characters'}, 400\n",
    "            # validate uid\n",
    "            uid = body.get('uid')\n",
    "            if uid is None or len(uid) < 2:\n",
    "                return {'message': f'User ID is missing, or is less than 2 characters'}, 400"
   ]
  },
  {
   "cell_type": "markdown",
   "metadata": {},
   "source": [
    "- In Postman, show URL request and Body requirements for GET, POST, and UPDATE methods.\n",
    "- In Postman, show the JSON response data for 200 success conditions on GET, POST, and UPDATE methods."
   ]
  },
  {
   "cell_type": "markdown",
   "metadata": {},
   "source": [
    "<img src=\"https://github.com/alaraipek/Issues/assets/115954616/ae642375-2755-4a69-9cc1-2548a785c5be\">\n",
    "<img src=\"https://github.com/alaraipek/Issues/assets/115954616/2504cc22-fa63-42bc-85e2-80a3c0a66037\">\n",
    "<img src=\"https://github.com/alaraipek/Issues/assets/115954616/0841ba77-f739-45d1-9d0f-1dff974a7c5f\">"
   ]
  },
  {
   "cell_type": "markdown",
   "metadata": {},
   "source": [
    "- In Postman, show the JSON response for error for 404 when providing an unknown user ID to a UPDATE request.\n",
    "    - This is a 400 error due to the user not being found"
   ]
  },
  {
   "cell_type": "markdown",
   "metadata": {},
   "source": [
    "<img src=\"https://github.com/alaraipek/Issues/assets/115954616/fe12276a-5dcf-4498-a445-a92aab17768f\">"
   ]
  },
  {
   "cell_type": "markdown",
   "metadata": {},
   "source": [
    "## Frontend\n",
    "- In Chrome inspect, show response of JSON objects from fetch of GET, POST, and UPDATE methods.\n",
    "    - The POST request sends the body of data for the login to the backend in JSON format"
   ]
  },
  {
   "cell_type": "markdown",
   "metadata": {},
   "source": [
    "- Blog JavaScript API fetch code and formatting code to display JSON.\n",
    "![image](https://github.com/alaraipek/Issues/assets/115954616/723993ec-c642-46b3-9447-67bf52420dc3)\n",
    "- In Chrome inspect, show response of JSON objects from fetch of GET, POST, and UPDATE methods.\n",
    "![image](https://github.com/alaraipek/Issues/assets/115954616/4a625876-3277-4c8d-9a74-74a66134a882)\n",
    "In the Chrome browser, show a demo (GET) of obtaining an Array of JSON objects that are formatted into the browsers screen.\n",
    "![image](https://github.com/alaraipek/Issues/assets/115954616/cb4c35fa-8fe3-48d4-b81e-6c58d4d3ac01)\n",
    "- In JavaScript code, describe fetch and method that obtained the Array of JSON objects.\n",
    "- In JavaScript code, show code that performs iteration and formatting of data into HTML.\n",
    "![image](https://github.com/alaraipek/Issues/assets/115954616/c93cc4fc-fd7c-4323-93d1-c6fd85a86da6)\n",
    "- In the Chrome browser, show a demo (POST or UPDATE) gathering and sending input and receiving a response that show update. Repeat this demo showing both success and failure.\n",
    "![image](https://github.com/alaraipek/Issues/assets/115954616/20efe72b-e3f5-401e-bdf3-1d6f90338bfa)\n"
   ]
  }
 ],
 "metadata": {
  "language_info": {
   "name": "python"
  }
 },
 "nbformat": 4,
 "nbformat_minor": 2
}
